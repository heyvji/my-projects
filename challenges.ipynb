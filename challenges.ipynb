{
 "cells": [
  {
   "cell_type": "code",
   "execution_count": 2,
   "id": "d998f5d1",
   "metadata": {},
   "outputs": [
    {
     "name": "stdout",
     "output_type": "stream",
     "text": [
      "Enjoy the ride!\n"
     ]
    }
   ],
   "source": [
    "height = int(input(\"Enter your height: \"))\n",
    "credits = int(input(\"Enter your credits: \"))\n",
    "\n",
    "if height > 137 and credits >= 10:\n",
    "  print(\"Enjoy the ride!\")\n",
    "elif height <= 137:\n",
    "  print(\"You are not tall enough\")\n",
    "elif credits <= 10:\n",
    "  print(\"You don't have enough credits\")\n",
    "else:\n",
    "  print(\"not met either requirements\")"
   ]
  },
  {
   "cell_type": "code",
   "execution_count": null,
   "id": "cf8f0c90",
   "metadata": {},
   "outputs": [
    {
     "name": "stdout",
     "output_type": "stream",
     "text": [
      "Slytherin : 0\n",
      "Hufflepuff : 0\n",
      "Ravenclaw  : 3\n",
      "Gryffindor  : 5\n"
     ]
    }
   ],
   "source": [
    "# Write code below 💖\n",
    "Gryffindor = 0\n",
    "Hufflepuff = 0\n",
    "Ravenclaw = 0\n",
    "Slytherin = 0\n",
    "D = int(input(\"Do you like dawn or Dusk?:\"))\n",
    "if D == 1: #Dawn\n",
    "  Gryffindor += 1\n",
    "  Ravenclaw += 1\n",
    "elif D == 2: #Dusk\n",
    "  Hufflepuff += 1\n",
    "  Slytherin += 1\n",
    "else:\n",
    "  print(\"Wrong input\")\n",
    "\n",
    "R = int(input(\"When I'm dead, I want people to remember me as:\"))\n",
    "if R == 1: #The Good\n",
    "  Hufflepuff += 2\n",
    "elif R == 2: #The Great \n",
    "  Slytherin += 2\n",
    "elif R == 3: #The Wise\n",
    "  Ravenclaw += 2\n",
    "elif R == 4: #The Bold\n",
    "  Gryffindor += 2\n",
    "else: \n",
    "  print(\"Wrong Input\")\n",
    "\n",
    "I = int(input(\"What kind of instrument mostt pleases your ear?:\"))\n",
    "if I == 1: #Violin\n",
    "  Slytherin += 4\n",
    "elif I == 2: #trumpet\n",
    "  Hufflepuff += 4\n",
    "elif I == 3: #piano\n",
    "  Ravenclaw += 4\n",
    "elif I == 4: #Drum\n",
    "  Gryffindor += 4\n",
    "else:\n",
    "  print(\"Wrong input\")\n",
    "\n",
    "print(\"Slytherin :\", Slytherin)\n",
    "print(\"Hufflepuff :\", Hufflepuff)\n",
    "print(\"Ravenclaw  :\", Ravenclaw )\n",
    "print(\"Gryffindor  :\", Gryffindor )\n"
   ]
  },
  {
   "cell_type": "code",
   "execution_count": 6,
   "id": "8576fe96",
   "metadata": {},
   "outputs": [
    {
     "name": "stdout",
     "output_type": "stream",
     "text": [
      "A taste bud's life span is about 10 days.\n"
     ]
    }
   ],
   "source": [
    "import random as rm\n",
    "\n",
    "num = rm.randint(0,5)\n",
    "\n",
    "if num == 0:\n",
    "  print(\"Flamingos turn pink from eating shrimp\")\n",
    "elif num == 1:\n",
    "  print('he only food that doesn\\'t spoil is honey')\n",
    "elif num == 2:\n",
    "  print(\"Shrimp can only swim backwards.\")\n",
    "elif num == 3:\n",
    "  print(\"A taste bud\\'s life span is about 10 days.\")\n",
    "elif num == 4:\n",
    "  print(\"It is impossible to sneeze while sleeping.\")\n",
    "else:\n",
    "  print(\"It is illegal to sing off-key in North Carolina.\")"
   ]
  },
  {
   "cell_type": "code",
   "execution_count": null,
   "id": "29f09985",
   "metadata": {},
   "outputs": [],
   "source": [
    "month = int(input(\"Enter current month: \"))\n",
    "\n",
    "if month in [1,2,3]:\n",
    "  print(\"Winter 🌨️\")\n",
    "elif month in [4,5,6]:\n",
    "  print(\"Spring 🌱\")\n",
    "elif month in [7,8,9]:\n",
    "  print(\"Summer 🌻\")\n",
    "elif month in [10,11,12]:\n",
    "  print(\"Autumn 🍂\")\n",
    "else:\n",
    "  print(\"Invalid\")"
   ]
  }
 ],
 "metadata": {
  "kernelspec": {
   "display_name": "Python 3",
   "language": "python",
   "name": "python3"
  },
  "language_info": {
   "codemirror_mode": {
    "name": "ipython",
    "version": 3
   },
   "file_extension": ".py",
   "mimetype": "text/x-python",
   "name": "python",
   "nbconvert_exporter": "python",
   "pygments_lexer": "ipython3",
   "version": "3.13.6"
  }
 },
 "nbformat": 4,
 "nbformat_minor": 5
}
