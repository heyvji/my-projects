{
 "cells": [
  {
   "cell_type": "markdown",
   "metadata": {},
   "source": [
    "<!-- # Student Dropout Prediction Model\n",
    "This notebook contains data preprocessing, feature engineering, and machine learning model training for predicting student dropout. -->"
   ]
  },
  {
   "cell_type": "code",
   "execution_count": 3,
   "metadata": {},
   "outputs": [],
   "source": [
    "# Import necessary libraries\n",
    "import numpy as np\n",
    "import pandas as pd\n",
    "import matplotlib.pyplot as plt\n",
    "import seaborn as sns\n",
    "from sklearn.model_selection import train_test_split\n",
    "from sklearn.preprocessing import StandardScaler, LabelEncoder\n",
    "from sklearn.linear_model import LogisticRegression\n",
    "from sklearn.metrics import accuracy_score, classification_report, confusion_matrix\n",
    "from sklearn.ensemble import RandomForestClassifier\n",
    "import warnings\n",
    "warnings.filterwarnings('ignore')"
   ]
  },
  {
   "cell_type": "code",
   "execution_count": null,
   "metadata": {},
   "outputs": [
    {
     "name": "stdout",
     "output_type": "stream",
     "text": [
      "Dataset shape: (649, 34)\n",
      "\n",
      "Columns: ['School', 'Gender', 'Age', 'Address', 'Family_Size', 'Parental_Status', 'Mother_Education', 'Father_Education', 'Mother_Job', 'Father_Job', 'Reason_for_Choosing_School', 'Guardian', 'Travel_Time', 'Study_Time', 'Number_of_Failures', 'School_Support', 'Family_Support', 'Extra_Paid_Class', 'Extra_Curricular_Activities', 'Attended_Nursery', 'Wants_Higher_Education', 'Internet_Access', 'In_Relationship', 'Family_Relationship', 'Free_Time', 'Going_Out', 'Weekend_Alcohol_Consumption', 'Weekday_Alcohol_Consumption', 'Health_Status', 'Number_of_Absences', 'Grade_1', 'Grade_2', 'Final_Grade', 'Dropped_Out']\n"
     ]
    }
   ],
   "source": [
    "df = pd.read_excel(r'student dropout.xlsx')\n",
    "print(f\"Dataset shape: {df.shape}\")\n",
    "print(f\"\\nColumns: {list(df.columns)}\")"
   ]
  },
  {
   "cell_type": "code",
   "execution_count": null,
   "metadata": {},
   "outputs": [],
   "source": [
    "print(\"Missing values:\")\n",
    "print(df.isnull().sum())\n",
    "print(\"\\nData types:\")\n",
    "print(df.dtypes)\n",
    "print(\"\\nTarget variable distribution:\")\n",
    "print(df['Dropped_Out'].value_counts())\n",
    "print(df['Dropped_Out'].value_counts(normalize=True) * 100)"
   ]
  },
  {
   "cell_type": "code",
   "execution_count": null,
   "metadata": {},
   "outputs": [],
   "source": [
    "# Separate features and target variable\n",
    "X = df.drop('Dropped_Out', axis=1)\n",
    "y = df['Dropped_Out']\n",
    "\n",
    "# Identify categorical and numerical columns\n",
    "categorical_cols = X.select_dtypes(include=['object']).columns.tolist()\n",
    "numerical_cols = X.select_dtypes(include=[np.number]).columns.tolist()\n",
    "\n",
    "print(f\"Categorical columns: {categorical_cols}\")\n",
    "print(f\"Numerical columns: {numerical_cols}\")"
   ]
  },
  {
   "cell_type": "code",
   "execution_count": null,
   "metadata": {},
   "outputs": [],
   "source": [
    "# Feature Engineering\n",
    "X_processed = X.copy()\n",
    "\n",
    "# Encode categorical variables\n",
    "label_encoders = {}\n",
    "for col in categorical_cols:\n",
    "    le = LabelEncoder()\n",
    "    X_processed[col] = le.fit_transform(X_processed[col])\n",
    "    label_encoders[col] = le\n",
    "\n",
    "# Create new features\n",
    "# Average grade\n",
    "X_processed['Average_Grade'] = (X_processed['Grade_1'] + X_processed['Grade_2'] + X_processed['Final_Grade']) / 3\n",
    "\n",
    "# Grade improvement\n",
    "X_processed['Grade_Improvement'] = X_processed['Final_Grade'] - X_processed['Grade_1']\n",
    "\n",
    "# Family education level (average of mother and father education)\n",
    "# X_processed['Family_Education_Avg'] = (X_processed['Mother_Education'] + X_processed['Father_Education']) / 2\n",
    "\n",
    "# Study to free time ratio\n",
    "X_processed['Study_Free_Ratio'] = X_processed['Study_Time'] / (X_processed['Free_Time'] + 1)  \n",
    "\n",
    "X_processed['Total_Alcohol'] = X_processed['Weekend_Alcohol_Consumption'] + X_processed['Weekday_Alcohol_Consumption']\n",
    "\n",
    "print(f\"New features created. Dataset shape: {X_processed.shape}\")\n",
    "print(f\"New columns: {X_processed.columns[-5:].tolist()}\")"
   ]
  },
  {
   "cell_type": "code",
   "execution_count": null,
   "metadata": {},
   "outputs": [],
   "source": [
    "# Feature correlation analysis\n",
    "plt.figure(figsize=(12, 10))\n",
    "correlation_matrix = X_processed.corr()\n",
    "sns.heatmap(correlation_matrix, annot=False, cmap='coolwarm', center=0)\n",
    "plt.title('Feature Correlation Matrix')\n",
    "plt.tight_layout()\n",
    "plt.show()\n",
    "\n",
    "# Show correlation with target variable\n",
    "target_corr = pd.concat([X_processed, y], axis=1).corr()['Dropped_Out'].sort_values(ascending=False)\n",
    "print(\"\\nCorrelation with target variable (Dropped_Out):\")\n",
    "print(target_corr)"
   ]
  },
  {
   "cell_type": "code",
   "execution_count": null,
   "metadata": {},
   "outputs": [],
   "source": [
    "\n",
    "X_train, X_test, y_train, y_test = train_test_split(\n",
    "    X_processed, y, test_size=0.2, random_state=42, stratify=y\n",
    ")\n",
    "\n",
    "print(f\"Training set shape: {X_train.shape}\")\n",
    "print(f\"Test set shape: {X_test.shape}\")\n",
    "print(f\"Training set target distribution: {y_train.value_counts()}\")\n",
    "print(f\"Test set target distribution: {y_test.value_counts()}\")"
   ]
  },
  {
   "cell_type": "code",
   "execution_count": null,
   "metadata": {},
   "outputs": [],
   "source": [
    "# Scale the features\n",
    "scaler = StandardScaler()\n",
    "X_train_scaled = scaler.fit_transform(X_train)\n",
    "X_test_scaled = scaler.transform(X_test)\n"
   ]
  },
  {
   "cell_type": "code",
   "execution_count": null,
   "metadata": {},
   "outputs": [],
   "source": [
    "# Train Logistic Regression Model\n",
    "lr_model = LogisticRegression(random_state=42, max_iter=1000)\n",
    "lr_model.fit(X_train_scaled, y_train)\n",
    "\n",
    "# Make predictions\n",
    "y_pred_lr = lr_model.predict(X_test_scaled)\n",
    "y_pred_proba_lr = lr_model.predict_proba(X_test_scaled)[:, 1]\n",
    "\n",
    "# Calculate accuracy\n",
    "lr_accuracy = accuracy_score(y_test, y_pred_lr)\n",
    "print(f\"Logistic Regression Accuracy: {lr_accuracy:.4f}\")\n",
    "\n",
    "# Classification report\n",
    "print(\"\\nLogistic Regression Classification Report:\")\n",
    "print(classification_report(y_test, y_pred_lr))"
   ]
  },
  {
   "cell_type": "code",
   "execution_count": null,
   "metadata": {},
   "outputs": [],
   "source": [
    "# Train Random Forest Model for comparison\n",
    "rf_model = RandomForestClassifier(n_estimators=100, random_state=42)\n",
    "rf_model.fit(X_train, y_train)\n",
    "\n",
    "y_pred_rf = rf_model.predict(X_test)\n",
    "y_pred_proba_rf = rf_model.predict_proba(X_test)[:, 1]\n",
    "\n",
    "rf_accuracy = accuracy_score(y_test, y_pred_rf)\n",
    "print(f\"Random Forest Accuracy: {rf_accuracy:.4f}\")\n",
    "\n",
    "print(\"\\nRandom Forest Classification Report:\")\n",
    "print(classification_report(y_test, y_pred_rf))"
   ]
  },
  {
   "cell_type": "code",
   "execution_count": null,
   "metadata": {},
   "outputs": [],
   "source": [
    "# Feature importance from Random Forest\n",
    "feature_importance = pd.DataFrame({\n",
    "    'feature': X_processed.columns,\n",
    "    'importance': rf_model.feature_importances_\n",
    "}).sort_values('importance', ascending=False)\n",
    "\n",
    "plt.figure(figsize=(10, 8))\n",
    "sns.barplot(data=feature_importance.head(5), x='importance', y='feature')\n",
    "plt.title('Top 5 Feature Importances (Random Forest)')\n",
    "plt.xlabel('Importance')\n",
    "plt.tight_layout()\n",
    "plt.show()\n",
    "\n",
    "print(\"Top 10 Most Important Features:\")\n",
    "print(feature_importance.head(10))"
   ]
  },
  {
   "cell_type": "code",
   "execution_count": null,
   "metadata": {},
   "outputs": [],
   "source": [
    "# Confusion Matrix Visualization\n",
    "fig, axes = plt.subplots(1, 2, figsize=(12, 5))\n",
    "\n",
    "# Logistic Regression Confusion Matrix\n",
    "cm_lr = confusion_matrix(y_test, y_pred_lr)\n",
    "sns.heatmap(cm_lr, annot=True, fmt='d', cmap='Blues', ax=axes[0])\n",
    "axes[0].set_title('Logistic Regression\\nConfusion Matrix')\n",
    "axes[0].set_xlabel('Predicted')\n",
    "axes[0].set_ylabel('Actual')\n",
    "\n",
    "# Random Forest Confusion Matrix\n",
    "cm_rf = confusion_matrix(y_test, y_pred_rf)\n",
    "sns.heatmap(cm_rf, annot=True, fmt='d', cmap='Greens', ax=axes[1])\n",
    "axes[1].set_title('Random Forest\\nConfusion Matrix')\n",
    "axes[1].set_xlabel('Predicted')\n",
    "axes[1].set_ylabel('Actual')\n",
    "\n",
    "plt.tight_layout()\n",
    "plt.show()"
   ]
  },
  {
   "cell_type": "code",
   "execution_count": null,
   "metadata": {},
   "outputs": [],
   "source": [
    "# Model Comparison Summary\n",
    "print(f\"Logistic Regression Accuracy: {lr_accuracy:.4f}\")\n",
    "print(f\"Random Forest Accuracy: {rf_accuracy:.4f}\")\n",
    "print(\"\\nBest performing model:\", \"Random Forest\" if rf_accuracy > lr_accuracy else \"Logistic Regression\")\n",
    "print(f\"Accuracy difference: {abs(rf_accuracy - lr_accuracy):.4f}\")"
   ]
  },
  {
   "cell_type": "code",
   "execution_count": null,
   "metadata": {},
   "outputs": [],
   "source": [
    "# catboost model\n",
    "\n",
    "from catboost import CatBoostClassifier\n",
    "# from catboost_widget import CatBoostWidget\n",
    "\n",
    "cat_model = CatBoostClassifier(iterations=100, learning_rate=0.1, depth=6, random_seed=42, verbose=100)\n",
    "cat_model.fit(X_train, y_train, eval_set=(X_test, y_test), use_best_model=True, plot=True)"
   ]
  },
  {
   "cell_type": "code",
   "execution_count": null,
   "metadata": {},
   "outputs": [],
   "source": [
    "# predictions\n",
    "y_pred_cat = cat_model.predict(X_test)\n",
    "y_pred_proba_cat = cat_model.predict_proba(X_test)[:, 1]\n",
    "\n",
    "# test accuracy\n",
    "cat_accuracy = accuracy_score(y_test, y_pred_cat)\n",
    "print(f\"CatBoost Accuracy: {cat_accuracy:.4f}\")\n",
    "print(\"\\nCatBoost Classification Report:\")\n",
    "print(classification_report(y_test, y_pred_cat))\n"
   ]
  },
  {
   "cell_type": "code",
   "execution_count": null,
   "metadata": {},
   "outputs": [],
   "source": [
    "# Feature importance from catboost\n",
    "feature_importance_cat = pd.DataFrame({\n",
    "    'feature': X_processed.columns,\n",
    "    'importance': cat_model.feature_importances_\n",
    "}).sort_values('importance', ascending=False)\n",
    "\n",
    "# display feature importance\n",
    "plt.figure(figsize=(10, 8))\n",
    "sns.barplot(data=feature_importance_cat.head(10), x='importance', y='feature')\n",
    "plt.title('Top 5 Feature Importances (CatBoost)')"
   ]
  },
  {
   "cell_type": "code",
   "execution_count": null,
   "metadata": {},
   "outputs": [],
   "source": [
    "# confusion matrix visualization\n",
    "cm_cat = confusion_matrix(y_test, y_pred_cat)\n",
    "sns.heatmap(cm_cat, annot=True, fmt='d', cmap='Purples')\n",
    "plt.title('CatBoost\\nConfusion Matrix')\n",
    "plt.xlabel('Predicted')\n",
    "plt.ylabel('Actual')"
   ]
  },
  {
   "cell_type": "code",
   "execution_count": null,
   "metadata": {},
   "outputs": [],
   "source": [
    "# # Save the trained models and preprocessors\n",
    "# import joblib\n",
    "\n",
    "# # Save models\n",
    "# joblib.dump(lr_model, 'logistic_regression_model.pkl')\n",
    "# joblib.dump(rf_model, 'random_forest_model.pkl')\n",
    "# joblib.dump(scaler, 'feature_scaler.pkl')\n",
    "# joblib.dump(label_encoders, 'label_encoders.pkl')\n",
    "# joblib.dump(cat_model, 'catboost_model.pkl')\n",
    "\n",
    "# print(\"Models and preprocessors saved successfully!\")\n",
    "# print(\"Files saved:\")\n",
    "# print(\"- logistic_regression_model.pkl\")\n",
    "# print(\"- random_forest_model.pkl\")\n",
    "# print(\"- feature_scaler.pkl\")\n",
    "# print(\"- label_encoders.pkl\")\n",
    "# print(\"- catboost_model.pkl\")"
   ]
  },
  {
   "cell_type": "code",
   "execution_count": null,
   "metadata": {},
   "outputs": [],
   "source": []
  },
  {
   "cell_type": "code",
   "execution_count": null,
   "metadata": {},
   "outputs": [],
   "source": []
  },
  {
   "cell_type": "code",
   "execution_count": null,
   "metadata": {},
   "outputs": [],
   "source": []
  }
 ],
 "metadata": {
  "kernelspec": {
   "display_name": "Python 3",
   "language": "python",
   "name": "python3"
  },
  "language_info": {
   "codemirror_mode": {
    "name": "ipython",
    "version": 3
   },
   "file_extension": ".py",
   "mimetype": "text/x-python",
   "name": "python",
   "nbconvert_exporter": "python",
   "pygments_lexer": "ipython3",
   "version": "3.13.6"
  }
 },
 "nbformat": 4,
 "nbformat_minor": 4
}
